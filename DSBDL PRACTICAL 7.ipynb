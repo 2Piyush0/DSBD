{
 "cells": [
  {
   "cell_type": "code",
   "execution_count": 2,
   "id": "907f8e14",
   "metadata": {},
   "outputs": [],
   "source": [
    "import nltk\n",
    "from nltk.tokenize import word_tokenize\n",
    "from nltk.corpus import stopwords\n",
    "from nltk.stem import PorterStemmer,WordNetLemmatizer\n",
    "from sklearn.feature_extraction.text import TfidfVectorizer"
   ]
  },
  {
   "cell_type": "code",
   "execution_count": 4,
   "id": "03e1d9bf",
   "metadata": {},
   "outputs": [
    {
     "name": "stderr",
     "output_type": "stream",
     "text": [
      "[nltk_data] Error loading punkt: <urlopen error [Errno 11001]\n",
      "[nltk_data]     getaddrinfo failed>\n",
      "[nltk_data] Error loading averaged_percptron_tagger: <urlopen error\n",
      "[nltk_data]     [Errno 11001] getaddrinfo failed>\n",
      "[nltk_data] Error loading stopwords: <urlopen error [Errno 11001]\n",
      "[nltk_data]     getaddrinfo failed>\n",
      "[nltk_data] Error loading wordnet: <urlopen error [Errno 11001]\n",
      "[nltk_data]     getaddrinfo failed>\n",
      "[nltk_data] Error loading omw-1.4: <urlopen error [Errno 11001]\n",
      "[nltk_data]     getaddrinfo failed>\n"
     ]
    },
    {
     "data": {
      "text/plain": [
       "False"
      ]
     },
     "execution_count": 4,
     "metadata": {},
     "output_type": "execute_result"
    }
   ],
   "source": [
    "nltk.download('punkt')\n",
    "nltk.download('averaged_percptron_tagger')\n",
    "nltk.download('stopwords')\n",
    "nltk.download('wordnet')\n",
    "nltk.download('omw-1.4')"
   ]
  },
  {
   "cell_type": "code",
   "execution_count": 5,
   "id": "502aa483",
   "metadata": {},
   "outputs": [],
   "source": [
    "text='Data science is fun. It helps in analyzing data and making predictions.'"
   ]
  },
  {
   "cell_type": "code",
   "execution_count": 6,
   "id": "ad6c28cd",
   "metadata": {},
   "outputs": [
    {
     "name": "stdout",
     "output_type": "stream",
     "text": [
      "tokens:  ['Data', 'science', 'is', 'fun', '.', 'It', 'helps', 'in', 'analyzing', 'data', 'and', 'making', 'predictions', '.']\n"
     ]
    }
   ],
   "source": [
    "tokens=word_tokenize(text)\n",
    "print(\"tokens: \",tokens)"
   ]
  },
  {
   "cell_type": "code",
   "execution_count": 7,
   "id": "045b6b82",
   "metadata": {},
   "outputs": [
    {
     "name": "stdout",
     "output_type": "stream",
     "text": [
      "pos tags:  [('Data', 'NNP'), ('science', 'NN'), ('is', 'VBZ'), ('fun', 'RB'), ('.', '.'), ('It', 'PRP'), ('helps', 'VBZ'), ('in', 'IN'), ('analyzing', 'VBG'), ('data', 'NNS'), ('and', 'CC'), ('making', 'VBG'), ('predictions', 'NNS'), ('.', '.')]\n"
     ]
    }
   ],
   "source": [
    "print('pos tags: ',nltk.pos_tag(tokens))"
   ]
  },
  {
   "cell_type": "code",
   "execution_count": 8,
   "id": "9e4df113",
   "metadata": {},
   "outputs": [
    {
     "name": "stdout",
     "output_type": "stream",
     "text": [
      "filterd:  ['Data', 'science', 'fun', '.', 'helps', 'analyzing', 'data', 'making', 'predictions', '.']\n"
     ]
    }
   ],
   "source": [
    "stop_words=set(stopwords.words('english'))\n",
    "filtered=[w for w in tokens if w.lower() not in stop_words]\n",
    "print('filterd: ',filtered)"
   ]
  },
  {
   "cell_type": "code",
   "execution_count": 11,
   "id": "ca922a1b",
   "metadata": {},
   "outputs": [
    {
     "name": "stdout",
     "output_type": "stream",
     "text": [
      "stemmed:  ['data', 'scienc', 'fun', '.', 'help', 'analyz', 'data', 'make', 'predict', '.']\n"
     ]
    }
   ],
   "source": [
    "stemmed=[PorterStemmer().stem(w) for w in filtered]\n",
    "print('stemmed: ',stemmed)"
   ]
  },
  {
   "cell_type": "code",
   "execution_count": 13,
   "id": "752b1d0a",
   "metadata": {},
   "outputs": [
    {
     "name": "stdout",
     "output_type": "stream",
     "text": [
      "lemmatize:  ['Data', 'science', 'fun', '.', 'help', 'analyzing', 'data', 'making', 'prediction', '.']\n"
     ]
    }
   ],
   "source": [
    "lemmatize=[WordNetLemmatizer().lemmatize(w) for w in filtered]\n",
    "print('lemmatize: ',lemmatize)"
   ]
  },
  {
   "cell_type": "code",
   "execution_count": 14,
   "id": "905111aa",
   "metadata": {},
   "outputs": [
    {
     "name": "stdout",
     "output_type": "stream",
     "text": [
      "tf-idf matrix:  [[0.30099921 0.30099921 0.         0.42832683 0.         0.30099921\n",
      "  0.21416342 0.21416342 0.30099921 0.30099921 0.30099921 0.\n",
      "  0.30099921 0.30099921]\n",
      " [0.         0.         0.47042643 0.33471228 0.47042643 0.\n",
      "  0.33471228 0.33471228 0.         0.         0.         0.47042643\n",
      "  0.         0.        ]]\n",
      "words:  ['analyzing' 'and' 'big' 'data' 'finding' 'fun' 'helps' 'in' 'is' 'it'\n",
      " 'making' 'patterns' 'predictions' 'science']\n"
     ]
    }
   ],
   "source": [
    "docs=[text,'Big Data helps in finding patterns.']\n",
    "vectorizer=TfidfVectorizer()\n",
    "tfidf_matrix=vectorizer.fit_transform(docs)\n",
    "print('tf-idf matrix: ',tfidf_matrix.toarray())\n",
    "print('words: ',vectorizer.get_feature_names_out())"
   ]
  },
  {
   "cell_type": "code",
   "execution_count": null,
   "id": "ec598686",
   "metadata": {},
   "outputs": [],
   "source": []
  }
 ],
 "metadata": {
  "kernelspec": {
   "display_name": "Python 3 (ipykernel)",
   "language": "python",
   "name": "python3"
  },
  "language_info": {
   "codemirror_mode": {
    "name": "ipython",
    "version": 3
   },
   "file_extension": ".py",
   "mimetype": "text/x-python",
   "name": "python",
   "nbconvert_exporter": "python",
   "pygments_lexer": "ipython3",
   "version": "3.10.9"
  }
 },
 "nbformat": 4,
 "nbformat_minor": 5
}
